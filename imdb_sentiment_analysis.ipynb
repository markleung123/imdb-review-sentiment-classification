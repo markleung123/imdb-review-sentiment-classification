{
  "nbformat": 4,
  "nbformat_minor": 0,
  "metadata": {
    "kernelspec": {
      "display_name": "Python 3",
      "language": "python",
      "name": "python3"
    },
    "language_info": {
      "codemirror_mode": {
        "name": "ipython",
        "version": 3
      },
      "file_extension": ".py",
      "mimetype": "text/x-python",
      "name": "python",
      "nbconvert_exporter": "python",
      "pygments_lexer": "ipython3",
      "version": "3.8.3"
    },
    "colab": {
      "name": "imdb_sentiment_analysis.ipynb",
      "provenance": []
    },
    "accelerator": "GPU"
  },
  "cells": [
    {
      "cell_type": "code",
      "metadata": {
        "id": "suJNHvl5ZnUN"
      },
      "source": [
        "import tensorflow_datasets as tfds\n",
        "import numpy as np\n",
        "import pandas as pd\n",
        "from keras.layers.experimental.preprocessing import TextVectorization\n",
        "from keras.preprocessing import sequence\n",
        "from keras.models import Sequential\n",
        "from keras.layers import LSTM, Embedding, Bidirectional, Dense\n",
        "from keras.optimizers import Adam\n",
        "import matplotlib.pyplot as plt\n",
        "\n"
      ],
      "execution_count": 1,
      "outputs": []
    },
    {
      "cell_type": "code",
      "metadata": {
        "id": "3WDCAhZXZnUS",
        "outputId": "4451e9bb-e722-4bd4-843b-ff8c4dd57b15",
        "colab": {
          "base_uri": "https://localhost:8080/"
        }
      },
      "source": [
        "dataset, info = tfds.load('imdb_reviews', with_info=True,\n",
        "                          as_supervised=True)\n",
        "train_dataset, test_dataset = dataset['train'], dataset['test']\n",
        "\n",
        "train_dataset.element_spec"
      ],
      "execution_count": 2,
      "outputs": [
        {
          "output_type": "execute_result",
          "data": {
            "text/plain": [
              "(TensorSpec(shape=(), dtype=tf.string, name=None),\n",
              " TensorSpec(shape=(), dtype=tf.int64, name=None))"
            ]
          },
          "metadata": {
            "tags": []
          },
          "execution_count": 2
        }
      ]
    },
    {
      "cell_type": "code",
      "metadata": {
        "id": "bwkji51EZnUY"
      },
      "source": [
        "texts=[]\n",
        "labels=[]\n",
        "\n",
        "for example, label in train_dataset:\n",
        "    texts.append(example.numpy())\n",
        "    labels.append(label.numpy())\n",
        "    \n"
      ],
      "execution_count": 3,
      "outputs": []
    },
    {
      "cell_type": "code",
      "metadata": {
        "id": "SQEI5zVzZnUe"
      },
      "source": [
        "train_df = pd.DataFrame(data = {'text': texts, 'label' : labels})"
      ],
      "execution_count": 4,
      "outputs": []
    },
    {
      "cell_type": "code",
      "metadata": {
        "id": "l8RubSzmZnUi",
        "outputId": "2deccb58-1233-4c57-e2a8-0324b2393884",
        "colab": {
          "base_uri": "https://localhost:8080/",
          "height": 349
        }
      },
      "source": [
        "train_df.head(10)"
      ],
      "execution_count": 5,
      "outputs": [
        {
          "output_type": "execute_result",
          "data": {
            "text/html": [
              "<div>\n",
              "<style scoped>\n",
              "    .dataframe tbody tr th:only-of-type {\n",
              "        vertical-align: middle;\n",
              "    }\n",
              "\n",
              "    .dataframe tbody tr th {\n",
              "        vertical-align: top;\n",
              "    }\n",
              "\n",
              "    .dataframe thead th {\n",
              "        text-align: right;\n",
              "    }\n",
              "</style>\n",
              "<table border=\"1\" class=\"dataframe\">\n",
              "  <thead>\n",
              "    <tr style=\"text-align: right;\">\n",
              "      <th></th>\n",
              "      <th>text</th>\n",
              "      <th>label</th>\n",
              "    </tr>\n",
              "  </thead>\n",
              "  <tbody>\n",
              "    <tr>\n",
              "      <th>0</th>\n",
              "      <td>b\"This was an absolutely terrible movie. Don't...</td>\n",
              "      <td>0</td>\n",
              "    </tr>\n",
              "    <tr>\n",
              "      <th>1</th>\n",
              "      <td>b'I have been known to fall asleep during film...</td>\n",
              "      <td>0</td>\n",
              "    </tr>\n",
              "    <tr>\n",
              "      <th>2</th>\n",
              "      <td>b'Mann photographs the Alberta Rocky Mountains...</td>\n",
              "      <td>0</td>\n",
              "    </tr>\n",
              "    <tr>\n",
              "      <th>3</th>\n",
              "      <td>b'This is the kind of film for a snowy Sunday ...</td>\n",
              "      <td>1</td>\n",
              "    </tr>\n",
              "    <tr>\n",
              "      <th>4</th>\n",
              "      <td>b'As others have mentioned, all the women that...</td>\n",
              "      <td>1</td>\n",
              "    </tr>\n",
              "    <tr>\n",
              "      <th>5</th>\n",
              "      <td>b\"This is a film which should be seen by anybo...</td>\n",
              "      <td>1</td>\n",
              "    </tr>\n",
              "    <tr>\n",
              "      <th>6</th>\n",
              "      <td>b'Okay, you have:&lt;br /&gt;&lt;br /&gt;Penelope Keith as...</td>\n",
              "      <td>0</td>\n",
              "    </tr>\n",
              "    <tr>\n",
              "      <th>7</th>\n",
              "      <td>b'The film is based on a genuine 1950s novel.&lt;...</td>\n",
              "      <td>0</td>\n",
              "    </tr>\n",
              "    <tr>\n",
              "      <th>8</th>\n",
              "      <td>b'I really love the sexy action and sci-fi fil...</td>\n",
              "      <td>0</td>\n",
              "    </tr>\n",
              "    <tr>\n",
              "      <th>9</th>\n",
              "      <td>b'Sure, this one isn\\'t really a blockbuster, ...</td>\n",
              "      <td>0</td>\n",
              "    </tr>\n",
              "  </tbody>\n",
              "</table>\n",
              "</div>"
            ],
            "text/plain": [
              "                                                text  label\n",
              "0  b\"This was an absolutely terrible movie. Don't...      0\n",
              "1  b'I have been known to fall asleep during film...      0\n",
              "2  b'Mann photographs the Alberta Rocky Mountains...      0\n",
              "3  b'This is the kind of film for a snowy Sunday ...      1\n",
              "4  b'As others have mentioned, all the women that...      1\n",
              "5  b\"This is a film which should be seen by anybo...      1\n",
              "6  b'Okay, you have:<br /><br />Penelope Keith as...      0\n",
              "7  b'The film is based on a genuine 1950s novel.<...      0\n",
              "8  b'I really love the sexy action and sci-fi fil...      0\n",
              "9  b'Sure, this one isn\\'t really a blockbuster, ...      0"
            ]
          },
          "metadata": {
            "tags": []
          },
          "execution_count": 5
        }
      ]
    },
    {
      "cell_type": "code",
      "metadata": {
        "id": "41BcV2WOZnUl"
      },
      "source": [
        "test_texts=[]\n",
        "test_labels=[]\n",
        "\n",
        "for example, label in test_dataset:\n",
        "    test_texts.append(example.numpy())\n",
        "    test_labels.append(label.numpy())\n",
        "    "
      ],
      "execution_count": 6,
      "outputs": []
    },
    {
      "cell_type": "code",
      "metadata": {
        "id": "S85hNbvsZnUp"
      },
      "source": [
        "test_df = pd.DataFrame(data = {'text' : test_texts, 'label' : test_labels})"
      ],
      "execution_count": 7,
      "outputs": []
    },
    {
      "cell_type": "code",
      "metadata": {
        "id": "kMTJm14uZnUu",
        "outputId": "b7180bb7-9b71-48dc-bf63-ee9b13e6e25e",
        "colab": {
          "base_uri": "https://localhost:8080/",
          "height": 349
        }
      },
      "source": [
        "test_df.head(10)"
      ],
      "execution_count": 8,
      "outputs": [
        {
          "output_type": "execute_result",
          "data": {
            "text/html": [
              "<div>\n",
              "<style scoped>\n",
              "    .dataframe tbody tr th:only-of-type {\n",
              "        vertical-align: middle;\n",
              "    }\n",
              "\n",
              "    .dataframe tbody tr th {\n",
              "        vertical-align: top;\n",
              "    }\n",
              "\n",
              "    .dataframe thead th {\n",
              "        text-align: right;\n",
              "    }\n",
              "</style>\n",
              "<table border=\"1\" class=\"dataframe\">\n",
              "  <thead>\n",
              "    <tr style=\"text-align: right;\">\n",
              "      <th></th>\n",
              "      <th>text</th>\n",
              "      <th>label</th>\n",
              "    </tr>\n",
              "  </thead>\n",
              "  <tbody>\n",
              "    <tr>\n",
              "      <th>0</th>\n",
              "      <td>b\"There are films that make careers. For Georg...</td>\n",
              "      <td>1</td>\n",
              "    </tr>\n",
              "    <tr>\n",
              "      <th>1</th>\n",
              "      <td>b\"A blackly comic tale of a down-trodden pries...</td>\n",
              "      <td>1</td>\n",
              "    </tr>\n",
              "    <tr>\n",
              "      <th>2</th>\n",
              "      <td>b'Scary Movie 1-4, Epic Movie, Date Movie, Mee...</td>\n",
              "      <td>0</td>\n",
              "    </tr>\n",
              "    <tr>\n",
              "      <th>3</th>\n",
              "      <td>b'Poor Shirley MacLaine tries hard to lend som...</td>\n",
              "      <td>0</td>\n",
              "    </tr>\n",
              "    <tr>\n",
              "      <th>4</th>\n",
              "      <td>b'As a former Erasmus student I enjoyed this f...</td>\n",
              "      <td>1</td>\n",
              "    </tr>\n",
              "    <tr>\n",
              "      <th>5</th>\n",
              "      <td>b\"My God, Ryan Gosling has made a lot of deep ...</td>\n",
              "      <td>1</td>\n",
              "    </tr>\n",
              "    <tr>\n",
              "      <th>6</th>\n",
              "      <td>b\"This film just won the best film award at th...</td>\n",
              "      <td>1</td>\n",
              "    </tr>\n",
              "    <tr>\n",
              "      <th>7</th>\n",
              "      <td>b'The cast for this production of Rigoletto is...</td>\n",
              "      <td>1</td>\n",
              "    </tr>\n",
              "    <tr>\n",
              "      <th>8</th>\n",
              "      <td>b'As long as you keep in mind that the product...</td>\n",
              "      <td>0</td>\n",
              "    </tr>\n",
              "    <tr>\n",
              "      <th>9</th>\n",
              "      <td>b\"Every great once in a while, you stumble upo...</td>\n",
              "      <td>1</td>\n",
              "    </tr>\n",
              "  </tbody>\n",
              "</table>\n",
              "</div>"
            ],
            "text/plain": [
              "                                                text  label\n",
              "0  b\"There are films that make careers. For Georg...      1\n",
              "1  b\"A blackly comic tale of a down-trodden pries...      1\n",
              "2  b'Scary Movie 1-4, Epic Movie, Date Movie, Mee...      0\n",
              "3  b'Poor Shirley MacLaine tries hard to lend som...      0\n",
              "4  b'As a former Erasmus student I enjoyed this f...      1\n",
              "5  b\"My God, Ryan Gosling has made a lot of deep ...      1\n",
              "6  b\"This film just won the best film award at th...      1\n",
              "7  b'The cast for this production of Rigoletto is...      1\n",
              "8  b'As long as you keep in mind that the product...      0\n",
              "9  b\"Every great once in a while, you stumble upo...      1"
            ]
          },
          "metadata": {
            "tags": []
          },
          "execution_count": 8
        }
      ]
    },
    {
      "cell_type": "code",
      "metadata": {
        "id": "Dzngptk-ZnUy"
      },
      "source": [
        "BUFFER_SIZE = 10000\n",
        "BATCH_SIZE = 64\n",
        "\n",
        "train_dataset = train_dataset.shuffle(BUFFER_SIZE).batch(BATCH_SIZE)\n",
        "test_dataset = test_dataset.batch(BATCH_SIZE)"
      ],
      "execution_count": 9,
      "outputs": []
    },
    {
      "cell_type": "code",
      "metadata": {
        "id": "lyiNC5Q1ZnU1"
      },
      "source": [
        "encoder = TextVectorization(max_tokens = 1000)\n",
        "\n",
        "encoder.adapt(train_dataset.map(lambda text, label: text))"
      ],
      "execution_count": 10,
      "outputs": []
    },
    {
      "cell_type": "code",
      "metadata": {
        "id": "llp5FcANZnU4",
        "outputId": "90455be0-1f26-4c4a-fdd6-472997a842d4",
        "colab": {
          "base_uri": "https://localhost:8080/"
        }
      },
      "source": [
        "vocab = np.array(encoder.get_vocabulary())\n",
        "\n",
        "vocab"
      ],
      "execution_count": 11,
      "outputs": [
        {
          "output_type": "execute_result",
          "data": {
            "text/plain": [
              "array(['', '[UNK]', 'the', 'and', 'a', 'of', 'to', 'is', 'in', 'it', 'i',\n",
              "       'this', 'that', 'br', 'was', 'as', 'for', 'with', 'movie', 'but',\n",
              "       'film', 'on', 'not', 'you', 'are', 'his', 'have', 'he', 'be',\n",
              "       'one', 'its', 'at', 'all', 'by', 'an', 'they', 'from', 'who', 'so',\n",
              "       'like', 'her', 'just', 'or', 'about', 'has', 'if', 'out', 'some',\n",
              "       'there', 'what', 'good', 'when', 'more', 'very', 'even', 'she',\n",
              "       'my', 'no', 'up', 'would', 'which', 'only', 'time', 'really',\n",
              "       'story', 'their', 'were', 'had', 'see', 'can', 'me', 'than', 'we',\n",
              "       'much', 'well', 'been', 'get', 'will', 'into', 'also', 'because',\n",
              "       'other', 'do', 'people', 'bad', 'great', 'first', 'how', 'most',\n",
              "       'him', 'dont', 'made', 'then', 'movies', 'make', 'films', 'could',\n",
              "       'way', 'them', 'any', 'too', 'after', 'characters', 'think',\n",
              "       'watch', 'two', 'many', 'being', 'seen', 'character', 'never',\n",
              "       'little', 'acting', 'where', 'plot', 'best', 'love', 'did', 'know',\n",
              "       'life', 'show', 'does', 'ever', 'your', 'still', 'better', 'over',\n",
              "       'off', 'these', 'end', 'say', 'while', 'here', 'man', 'why',\n",
              "       'scene', 'such', 'scenes', 'go', 'should', 'something', 'through',\n",
              "       'im', 'back', 'those', 'doesnt', 'real', 'watching', 'years',\n",
              "       'though', 'now', 'thing', 'actors', 'didnt', 'another', 'new',\n",
              "       'before', 'actually', 'nothing', 'makes', 'find', 'work', 'funny',\n",
              "       'look', 'few', 'old', 'going', 'same', 'every', 'lot', 'us',\n",
              "       'part', 'director', 'again', 'thats', 'cant', 'quite', 'cast',\n",
              "       'want', 'pretty', 'things', 'seems', 'young', 'got', 'around',\n",
              "       'fact', 'however', 'down', 'world', 'take', 'enough', 'both',\n",
              "       'give', 'between', 'may', 'ive', 'big', 'horror', 'original',\n",
              "       'thought', 'own', 'without', 'gets', 'always', 'series', 'right',\n",
              "       'long', 'isnt', 'saw', 'come', 'almost', 'times', 'least',\n",
              "       'theres', 'role', 'point', 'action', 'must', 'interesting',\n",
              "       'whole', 'comedy', 'bit', 'family', 'music', 'done', 'script',\n",
              "       'last', 'might', 'hes', 'anything', 'guy', 'since', 'feel',\n",
              "       'minutes', 'far', 'probably', 'performance', 'am', 'kind',\n",
              "       'rather', 'worst', 'yet', 'away', 'sure', 'tv', 'making', 'woman',\n",
              "       'girl', 'each', 'found', 'fun', 'played', 'having', 'anyone',\n",
              "       'our', 'although', 'believe', 'comes', 'trying', 'course',\n",
              "       'especially', 'goes', 'day', 'looks', 'hard', 'shows', 'put',\n",
              "       'different', 'wasnt', 'place', 'maybe', 'book', 'once', 'set',\n",
              "       'main', 'reason', 'money', 'worth', 'sense', 'everything',\n",
              "       'looking', 'true', 'ending', 'someone', 'watched', 'plays', 'job',\n",
              "       '2', 'actor', 'seem', 'three', 'said', 'takes', 'screen', 'dvd',\n",
              "       'together', 'play', 'instead', 'john', 'during', 'beautiful',\n",
              "       'later', '10', 'effects', 'himself', 'everyone', 'version', 'left',\n",
              "       'seeing', 'special', 'audience', 'night', 'excellent', 'house',\n",
              "       'american', 'idea', 'simply', 'nice', 'wife', 'shot', 'youre',\n",
              "       'read', 'high', 'black', 'less', 'completely', 'second', 'kids',\n",
              "       'help', 'else', 'poor', 'fan', 'war', 'star', 'used', 'given',\n",
              "       'year', 'try', 'father', 'death', 'friends', 'need', 'use', 'rest',\n",
              "       'enjoy', 'home', 'men', 'performances', 'short', 'mind', 'classic',\n",
              "       'until', 'either', 'truly', 'along', 'hollywood', 'boring', 'half',\n",
              "       'dead', 'wrong', 'tell', 'production', 'women', 'line', 'remember',\n",
              "       'couple', 'came', 'next', 'recommend', 'start', 'perhaps', 'full',\n",
              "       'let', 'understand', 'wonderful', 'stupid', 'getting', 'others',\n",
              "       'mean', 'moments', 'playing', 'awful', 'keep', 'episode',\n",
              "       'terrible', 'camera', 'small', 'definitely', 'gives', 'often',\n",
              "       'stars', 'doing', 'sex', 'video', 'early', 'perfect', 'become',\n",
              "       'finally', 'name', 'felt', 'school', 'human', 'supposed', 'face',\n",
              "       'couldnt', 'liked', 'lines', 'dialogue', 'piece', 'person',\n",
              "       'itself', 'lost', 'absolutely', 'top', 'yes', 'case', 'against',\n",
              "       'entire', 'went', 'certainly', 'written', 'live', 'title', 'waste',\n",
              "       'shes', 'sort', 'head', 'budget', 'hope', 'problem', 'style',\n",
              "       'several', 'overall', 'picture', 'loved', 'evil', 'mr', 'worse',\n",
              "       'id', 'fans', 'becomes', 'entertaining', '3', 'cinema', 'boy',\n",
              "       'beginning', 'seemed', 'white', 'based', 'already', 'despite',\n",
              "       'care', 'oh', 'wanted', 'example', 'dark', '\\x96', 'lives', 'guys',\n",
              "       'unfortunately', 'killer', 'throughout', 'mother', 'direction',\n",
              "       'final', 'friend', 'turn', 'totally', 'fine', 'wont', '1', 'wants',\n",
              "       'children', 'amazing', 'sound', 'laugh', 'girls', 'drama', 'youll',\n",
              "       'guess', 'lead', 'tries', 'low', 'called', 'humor', 'writing',\n",
              "       'under', 'michael', 'works', 'history', 'turns', 'able', 'enjoyed',\n",
              "       'theyre', 'behind', 'past', 'quality', 'days', 'gave', 'favorite',\n",
              "       'starts', 'son', 'kill', 'game', 'act', 'sometimes', 'side',\n",
              "       'viewer', 'town', 'horrible', 'parts', 'car', 'actress', 'soon',\n",
              "       'child', 'ones', 'eyes', 'expect', 'obviously', 'flick',\n",
              "       'themselves', 'directed', 'thinking', 'heart', 'art', 'brilliant',\n",
              "       'stories', 'ill', 'decent', 'highly', 'run', 'feeling', 'myself',\n",
              "       'genre', 'late', 'blood', 'stuff', 'fight', 'says', 'close',\n",
              "       'took', 'city', 'except', 'cannot', 'heard', 'hand', 'leave',\n",
              "       'killed', 'kid', 'matter', 'police', 'hell', 'moment', 'wouldnt',\n",
              "       'extremely', 'strong', 'roles', 'happens', 'particularly', 'lack',\n",
              "       'hour', 'involved', 'happened', 'obvious', 'attempt', 'james',\n",
              "       'told', 'living', 'chance', 'violence', 'wonder', 'including',\n",
              "       'etc', 'complete', 'save', 'voice', 'coming', 'murder', 'anyway',\n",
              "       'group', 'daughter', 'looked', 'age', 'please', 'type', 'itbr',\n",
              "       'alone', 'experience', 'simple', 'none', 'god', 'number', 'score',\n",
              "       'exactly', 'slow', 'shown', 'happen', 'ok', 'ago', 'lets',\n",
              "       'interest', 'whose', 'taken', 'brother', 'usually', 'serious',\n",
              "       'david', 'across', 'stop', 'cinematography', 'somewhat', 'running',\n",
              "       'hours', 'annoying', 'sad', 'opening', 'song', 'known', 'ends',\n",
              "       'musical', 'usual', 'possible', 'finds', 'career', 'wish', 'hit',\n",
              "       'yourself', 'released', 'started', 'huge', 'gore', 'relationship',\n",
              "       'seriously', 'scary', 'jokes', 'change', 'saying', 'order', 'crap',\n",
              "       'mostly', 'shots', 'reality', 'ridiculous', 'cut', 'today',\n",
              "       'robert', 'english', 'taking', 'major', 'episodes', 'hilarious',\n",
              "       'novel', 'cool', 'female', 'body', 'talking', 'opinion', '4',\n",
              "       'call', 'apparently', 'directors', 'strange', 'due', 'basically',\n",
              "       '5', 'important', 'hero', 'supporting', 'clearly', 'power',\n",
              "       'knows', 'documentary', 'knew', 'happy', 'events', 'view',\n",
              "       'turned', 'husband', 'songs', 'talent', 'level', 'arent', 'king',\n",
              "       'british', 'room', 'easily', 'tells', 'single', 'local', 'rating',\n",
              "       'attention', 'word', 'moviebr', 'bring', 'words', 'problems',\n",
              "       'cheap', 'whats', 'modern', 'silly', 'television', 'beyond',\n",
              "       'sequence', 'whether', 'disappointed', 'light', 'jack', 'falls',\n",
              "       'sets', 'four', 'future', 'five', 'similar', 'paul', 'miss',\n",
              "       'country', 'needs', 'appears', 'romantic', 'giving', 'upon',\n",
              "       'earth', 'viewers', 'comic', 'richard', 'predictable', 'george',\n",
              "       'talk', 'entertainment', 'within', 'review', 'havent', 'feels',\n",
              "       'nearly', 'mention', 'message', 'enjoyable', 'animation', 'bunch',\n",
              "       'filmbr', 'theater', 'lots', 'lady', 'storyline', 'rock', 'add',\n",
              "       'actual', 'using', 'moving', 'points', 'above', 'middle',\n",
              "       'surprised', 'named', 'theme', 'mystery', 'herself', 'ten', 'dull',\n",
              "       'among', 'begins', 'comments', 'writer', 'ways', 'typical',\n",
              "       'fantastic', 'stay', 'showing', 'sequel', 'york', 'elements',\n",
              "       'easy', 'certain', 'thriller', 'team', 'tried', 'fall', 'effort',\n",
              "       'clear', 'near', 'avoid', 'release', 'hate', 'french', 'tale',\n",
              "       'famous', 'sorry', 'somehow', 'parents', 'means', 'straight',\n",
              "       'leads', 'peter', 'red', 'kept', 'working', 'buy', 'greatest',\n",
              "       'dialog', 'doubt', 'soundtrack', 'form', 'class', 'season',\n",
              "       'editing', 'sister', 'general', 'brought', 'weak', 'tom', 'filmed',\n",
              "       'figure', 'feature', 'oscar', 'hear', 'gone', 'whos', 'particular',\n",
              "       'material', 'check', 'viewing', 'learn', 'realistic', 'imagine',\n",
              "       'eventually', 'youve', 'eye', 'move', 'fast', 'atmosphere',\n",
              "       'reviews', 'decided', 'sequences', 'possibly', 'period', 'forget',\n",
              "       'lame', 'deal', 'third', 'premise', 'lee', 'follow', 'de',\n",
              "       'became', 'space', 'dance', 'wait', 'stand', 'indeed', 'japanese',\n",
              "       'zombie', 'sit', 'difficult', 'poorly', 'sexual', 'expected',\n",
              "       'die', 'whatever', 'writers', 'surprise', 'nor', 'crime', 'nature',\n",
              "       'rent', 'average', '80s', 'suspense', 'leaves', 'subject', 'okay',\n",
              "       'stage', 'killing', 'truth', 'believable', 'screenplay', 'needed',\n",
              "       'filmmakers', 'reading', 'note', 'meets', 'meet', 'dr', 'question',\n",
              "       'begin', 'boys', 'joe', 'romance', 'street', 'realize', 'forced',\n",
              "       'otherwise', 'emotional', 'memorable', 'unless', 'write', 'superb',\n",
              "       'shame', 'older', 'minute', 'interested', 'earlier', 'keeps',\n",
              "       'baby', 'weird', 'situation', 'disney', 'whom', 'footage',\n",
              "       'features', 'dramatic', 'credits', 'beauty', 'towards', 'dog',\n",
              "       'badly', 'ask', 'total', 'previous', 'hot', 'sounds', 'crazy',\n",
              "       'brings', 'comment', 'male', 'plenty', 'personal', 'worked',\n",
              "       'incredibly', 'plus', 'directing', 'society', 'quickly',\n",
              "       'perfectly', 'cheesy', 'admit', 'result', 'unique', 'deep',\n",
              "       'return', 'america', 'laughs', 'free', 'creepy', 'development',\n",
              "       'leading', 'appear', 'meant', 'hardly', 'open', 'brothers', '20',\n",
              "       'imdb', 'hands', 'b', 'apart', 'mark', 'various', 'casting',\n",
              "       'remake', 'effect', 'create', 'setting', 'christmas', 'potential',\n",
              "       'mess', 'bill', 'battle', 'background', 'scifi', 'monster',\n",
              "       'forward', 'powerful', 'portrayed', 'dream', 'inside', 'outside',\n",
              "       '70s', 'fairly', 'business', 'la', 'manages', 'ideas', 'expecting',\n",
              "       'jane', 'fails', 'deserves', 'present', 'political', 'missing',\n",
              "       'attempts', 'twist', 'secret', 'fire', 'dumb', 'unlike',\n",
              "       'fighting', 'fantasy', 'pay', 'air', 'joke'], dtype='<U14')"
            ]
          },
          "metadata": {
            "tags": []
          },
          "execution_count": 11
        }
      ]
    },
    {
      "cell_type": "code",
      "metadata": {
        "id": "9cfcK26GZnU9"
      },
      "source": [
        "model = Sequential()\n",
        "\n",
        "model.add(encoder)\n",
        "model.add(Embedding(len(vocab), 64, mask_zero = True))\n",
        "model.add(Bidirectional(LSTM(64)))\n",
        "model.add(Dense(64, activation = 'relu'))\n",
        "model.add(Dense(1, activation='sigmoid'))\n"
      ],
      "execution_count": 12,
      "outputs": []
    },
    {
      "cell_type": "code",
      "metadata": {
        "id": "GwZUzFvZZnVA"
      },
      "source": [
        "model.compile(loss='binary_crossentropy',\n",
        "              optimizer='adam',\n",
        "              metrics=['accuracy'])"
      ],
      "execution_count": 13,
      "outputs": []
    },
    {
      "cell_type": "code",
      "metadata": {
        "id": "l0orIx_8ZnVE",
        "outputId": "db4065a6-22b0-419b-b02f-667269c72fcc",
        "colab": {
          "base_uri": "https://localhost:8080/"
        }
      },
      "source": [
        "history = model.fit(train_dataset, epochs=10,\n",
        "                    validation_data=test_dataset, \n",
        "                    validation_steps=30)\n",
        "\n",
        "test_loss, test_acc = model.evaluate(test_dataset)\n",
        "\n",
        "print('Test Loss: {}'.format(test_loss))\n",
        "print('Test Accuracy: {}'.format(test_acc))"
      ],
      "execution_count": 14,
      "outputs": [
        {
          "output_type": "stream",
          "text": [
            "Epoch 1/10\n",
            "391/391 [==============================] - 35s 90ms/step - loss: 0.5850 - accuracy: 0.6828 - val_loss: 0.4161 - val_accuracy: 0.8208\n",
            "Epoch 2/10\n",
            "391/391 [==============================] - 33s 83ms/step - loss: 0.4366 - accuracy: 0.8183 - val_loss: 0.3742 - val_accuracy: 0.8448\n",
            "Epoch 3/10\n",
            "391/391 [==============================] - 32s 83ms/step - loss: 0.5028 - accuracy: 0.7644 - val_loss: 0.4135 - val_accuracy: 0.8339\n",
            "Epoch 4/10\n",
            "391/391 [==============================] - 32s 82ms/step - loss: 0.3923 - accuracy: 0.8306 - val_loss: 0.3718 - val_accuracy: 0.8453\n",
            "Epoch 5/10\n",
            "391/391 [==============================] - 32s 83ms/step - loss: 0.3422 - accuracy: 0.8570 - val_loss: 0.3377 - val_accuracy: 0.8495\n",
            "Epoch 6/10\n",
            "391/391 [==============================] - 33s 85ms/step - loss: 0.3281 - accuracy: 0.8611 - val_loss: 0.3435 - val_accuracy: 0.8432\n",
            "Epoch 7/10\n",
            "391/391 [==============================] - 33s 84ms/step - loss: 0.3121 - accuracy: 0.8668 - val_loss: 0.3352 - val_accuracy: 0.8536\n",
            "Epoch 8/10\n",
            "391/391 [==============================] - 33s 84ms/step - loss: 0.2985 - accuracy: 0.8745 - val_loss: 0.3370 - val_accuracy: 0.8630\n",
            "Epoch 9/10\n",
            "391/391 [==============================] - 32s 83ms/step - loss: 0.2860 - accuracy: 0.8804 - val_loss: 0.3243 - val_accuracy: 0.8568\n",
            "Epoch 10/10\n",
            "391/391 [==============================] - 32s 83ms/step - loss: 0.2751 - accuracy: 0.8867 - val_loss: 0.3377 - val_accuracy: 0.8641\n",
            "391/391 [==============================] - 16s 41ms/step - loss: 0.3304 - accuracy: 0.8640\n",
            "Test Loss: 0.3303925693035126\n",
            "Test Accuracy: 0.8640400171279907\n"
          ],
          "name": "stdout"
        }
      ]
    },
    {
      "cell_type": "code",
      "metadata": {
        "id": "X_J59vtIZnVJ"
      },
      "source": [
        "def plotmodelhistory(history): \n",
        "  fig, axs = plt.subplots(1,2,figsize=(15,5)) \n",
        "  epochs = range(1, len(history.history['accuracy'])+1)\n",
        "\n",
        "  axs[0].plot(epochs, history.history['accuracy'])\n",
        "  axs[0].plot(epochs, history.history['val_accuracy'])\n",
        "  axs[0].legend(['train', 'validate'], loc='upper left')\n",
        "  axs[0].set_title('Model Accuracy')\n",
        "  axs[0].set_ylabel('Accuracy') \n",
        "  axs[0].set_xlabel('Epoch')\n",
        "    \n",
        "  axs[1].plot(epochs, history.history['loss'])\n",
        "  axs[1].plot(epochs, history.history['val_loss'])   \n",
        "  axs[1].set_title('Model Loss')\n",
        "  axs[1].set_ylabel('Loss') \n",
        "  axs[1].set_xlabel('Epoch')\n",
        "  axs[1].legend(['train', 'validate'], loc='upper left')\n",
        "  plt.show()"
      ],
      "execution_count": 19,
      "outputs": []
    },
    {
      "cell_type": "code",
      "metadata": {
        "id": "KBXLpD5MZnVN",
        "outputId": "d6e8acbd-9e58-4c9c-8cd7-1079d149f5b2",
        "colab": {
          "base_uri": "https://localhost:8080/",
          "height": 350
        }
      },
      "source": [
        "plotmodelhistory(history)"
      ],
      "execution_count": 20,
      "outputs": [
        {
          "output_type": "display_data",
          "data": {
            "image/png": "[encoded data removed]",
            "text/plain": [
              "<Figure size 1080x360 with 2 Axes>"
            ]
          },
          "metadata": {
            "tags": [],
            "needs_background": "light"
          }
        }
      ]
    }
  ]
}